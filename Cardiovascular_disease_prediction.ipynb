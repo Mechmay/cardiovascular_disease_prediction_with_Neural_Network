{
  "nbformat": 4,
  "nbformat_minor": 0,
  "metadata": {
    "kernelspec": {
      "display_name": "Python 3",
      "language": "python",
      "name": "python3"
    },
    "language_info": {
      "codemirror_mode": {
        "name": "ipython",
        "version": 3
      },
      "file_extension": ".py",
      "mimetype": "text/x-python",
      "name": "python",
      "nbconvert_exporter": "python",
      "pygments_lexer": "ipython3",
      "version": "3.7.7"
    },
    "colab": {
      "name": "Cardiovascular_disease_prediction.ipynb",
      "provenance": []
    }
  },
  "cells": [
    {
      "cell_type": "code",
      "metadata": {
        "id": "d1g4wVXsQyMO"
      },
      "source": [
        "import pandas as pd\n",
        "import matplotlib.pyplot as plt\n",
        "from sklearn.metrics import confusion_matrix\n",
        "from sklearn.preprocessing import StandardScaler, LabelEncoder\n",
        "from sklearn.model_selection import train_test_split\n",
        "from collections import Counter\n",
        "from sklearn.compose import ColumnTransformer\n",
        "from tensorflow.keras.models import Sequential\n",
        "from tensorflow.keras.layers import Dense, InputLayer, Dropout\n",
        "from sklearn.metrics import classification_report\n",
        "from tensorflow.keras.utils import to_categorical\n",
        "from tensorflow.keras.optimizers import Adam\n",
        "from tensorflow.keras.callbacks import EarlyStopping\n",
        "import numpy as np"
      ],
      "execution_count": null,
      "outputs": []
    },
    {
      "cell_type": "markdown",
      "metadata": {
        "id": "-MWS1T-6QyMS"
      },
      "source": [
        "### Loading and Analyzing the Data"
      ]
    },
    {
      "cell_type": "code",
      "metadata": {
        "id": "H8w7zzurQyMT",
        "outputId": "e3e2693e-0462-4565-ef70-224897c380b5"
      },
      "source": [
        "data = pd.read_csv('heart_failure.csv')\n",
        "\n",
        "data.head()\n",
        "print(data.columns)\n",
        "print(data.shape)\n",
        "print(data.info())"
      ],
      "execution_count": null,
      "outputs": [
        {
          "output_type": "stream",
          "text": [
            "Index(['Unnamed: 0', 'age', 'anaemia', 'creatinine_phosphokinase', 'diabetes',\n",
            "       'ejection_fraction', 'high_blood_pressure', 'platelets',\n",
            "       'serum_creatinine', 'serum_sodium', 'sex', 'smoking', 'time',\n",
            "       'DEATH_EVENT', 'death_event'],\n",
            "      dtype='object')\n",
            "(299, 15)\n",
            "<class 'pandas.core.frame.DataFrame'>\n",
            "RangeIndex: 299 entries, 0 to 298\n",
            "Data columns (total 15 columns):\n",
            " #   Column                    Non-Null Count  Dtype  \n",
            "---  ------                    --------------  -----  \n",
            " 0   Unnamed: 0                299 non-null    int64  \n",
            " 1   age                       299 non-null    float64\n",
            " 2   anaemia                   299 non-null    object \n",
            " 3   creatinine_phosphokinase  299 non-null    int64  \n",
            " 4   diabetes                  299 non-null    object \n",
            " 5   ejection_fraction         299 non-null    int64  \n",
            " 6   high_blood_pressure       299 non-null    object \n",
            " 7   platelets                 299 non-null    float64\n",
            " 8   serum_creatinine          299 non-null    float64\n",
            " 9   serum_sodium              299 non-null    int64  \n",
            " 10  sex                       299 non-null    object \n",
            " 11  smoking                   299 non-null    object \n",
            " 12  time                      299 non-null    int64  \n",
            " 13  DEATH_EVENT               299 non-null    int64  \n",
            " 14  death_event               299 non-null    object \n",
            "dtypes: float64(3), int64(6), object(6)\n",
            "memory usage: 35.2+ KB\n",
            "None\n"
          ],
          "name": "stdout"
        }
      ]
    },
    {
      "cell_type": "code",
      "metadata": {
        "scrolled": true,
        "id": "gqJQbkGHQyMY",
        "outputId": "1ed62aa9-ac85-49d2-dc02-ab510850d55e"
      },
      "source": [
        "print('Classes and number of values in the dataset:', Counter(data['death_event']))\n",
        " \n",
        "y = data.death_event\n",
        "x = data.iloc[:, 1: -2]\n",
        "print(x.columns)"
      ],
      "execution_count": null,
      "outputs": [
        {
          "output_type": "stream",
          "text": [
            "Classes and number of values in the dataset: Counter({'no': 203, 'yes': 96})\n",
            "Index(['age', 'anaemia', 'creatinine_phosphokinase', 'diabetes',\n",
            "       'ejection_fraction', 'high_blood_pressure', 'platelets',\n",
            "       'serum_creatinine', 'serum_sodium', 'sex', 'smoking', 'time'],\n",
            "      dtype='object')\n"
          ],
          "name": "stdout"
        }
      ]
    },
    {
      "cell_type": "markdown",
      "metadata": {
        "id": "-hKXQqhjQyMa"
      },
      "source": [
        "### Data Preprocessing"
      ]
    },
    {
      "cell_type": "code",
      "metadata": {
        "id": "dD2vWAcbQyMc"
      },
      "source": [
        "x = pd.get_dummies(x)\n",
        "\n",
        "X_train, X_test, Y_train, Y_test = train_test_split(x, y, test_size = 0.2, random_state = 42)\n",
        "\n",
        "ct = ColumnTransformer([('numeric', StandardScaler(), ['age','creatinine_phosphokinase','ejection_fraction','platelets','serum_creatinine','serum_sodium','time'])])\n",
        "\n",
        "X_train = ct.fit_transform(X_train)\n",
        "X_test = ct.transform(X_test)\n"
      ],
      "execution_count": null,
      "outputs": []
    },
    {
      "cell_type": "markdown",
      "metadata": {
        "id": "azgFHdmDQyMd"
      },
      "source": [
        "### Prepare Labels For Classification"
      ]
    },
    {
      "cell_type": "code",
      "metadata": {
        "id": "fmT7WultQyMe"
      },
      "source": [
        "le = LabelEncoder()\n",
        "Y_train = le.fit_transform(Y_train)\n",
        "Y_test = le.transform(Y_test)\n",
        "\n",
        "Y_train = to_categorical(Y_train)\n",
        "Y_test = to_categorical(Y_test)"
      ],
      "execution_count": null,
      "outputs": []
    },
    {
      "cell_type": "markdown",
      "metadata": {
        "id": "rlJ8lrA_QyMg"
      },
      "source": [
        "### Design the Model\n"
      ]
    },
    {
      "cell_type": "code",
      "metadata": {
        "id": "2i70bIjRQyMh"
      },
      "source": [
        "model = Sequential()\n",
        "model.add(InputLayer(input_shape = (X_train.shape[1],)))\n",
        "model.add(Dense(12, activation = 'relu'))\n",
        "model.add(Dense(6, activation = 'relu'))\n",
        "model.add(Dropout(0.1))\n",
        "model.add(Dense(2, activation = 'softmax'))\n",
        "\n",
        "\n",
        "model.compile(loss= 'categorical_crossentropy', metrics = ['accuracy'], optimizer = 'adam')"
      ],
      "execution_count": null,
      "outputs": []
    },
    {
      "cell_type": "markdown",
      "metadata": {
        "id": "Xb30urvXQyMj"
      },
      "source": [
        "### Train and Evaluate the Model "
      ]
    },
    {
      "cell_type": "code",
      "metadata": {
        "id": "rJJ4awqCQyMk",
        "outputId": "aebf1248-3862-47ad-eb47-4a57ab3b5b3b"
      },
      "source": [
        "es = EarlyStopping(monitor='val_loss', min_delta = 0.0001, verbose=1, patience=20)\n",
        "history = model.fit(X_train, Y_train, epochs = 50, batch_size = 8, verbose = 1, callbacks = [es], validation_split = 0.1)\n",
        "\n"
      ],
      "execution_count": null,
      "outputs": [
        {
          "output_type": "stream",
          "text": [
            "Train on 215 samples, validate on 24 samples\n",
            "Epoch 1/50\n",
            "215/215 [==============================] - 6s 27ms/sample - loss: 0.7400 - accuracy: 0.5814 - val_loss: 0.5506 - val_accuracy: 0.7500\n",
            "Epoch 2/50\n",
            "215/215 [==============================] - 0s 1ms/sample - loss: 0.6969 - accuracy: 0.6651 - val_loss: 0.5390 - val_accuracy: 0.7500\n",
            "Epoch 3/50\n",
            "215/215 [==============================] - 0s 1ms/sample - loss: 0.6731 - accuracy: 0.6930 - val_loss: 0.5319 - val_accuracy: 0.7917\n",
            "Epoch 4/50\n",
            "215/215 [==============================] - 0s 1ms/sample - loss: 0.6469 - accuracy: 0.6884 - val_loss: 0.5147 - val_accuracy: 0.8333\n",
            "Epoch 5/50\n",
            "215/215 [==============================] - 0s 1ms/sample - loss: 0.6077 - accuracy: 0.7349 - val_loss: 0.4984 - val_accuracy: 0.7500\n",
            "Epoch 6/50\n",
            "215/215 [==============================] - 0s 1ms/sample - loss: 0.5815 - accuracy: 0.7442 - val_loss: 0.4886 - val_accuracy: 0.8333\n",
            "Epoch 7/50\n",
            "215/215 [==============================] - 0s 2ms/sample - loss: 0.5577 - accuracy: 0.7581 - val_loss: 0.4715 - val_accuracy: 0.8333\n",
            "Epoch 8/50\n",
            "215/215 [==============================] - 1s 2ms/sample - loss: 0.5336 - accuracy: 0.7628 - val_loss: 0.4490 - val_accuracy: 0.8333\n",
            "Epoch 9/50\n",
            "215/215 [==============================] - 1s 2ms/sample - loss: 0.5032 - accuracy: 0.8093 - val_loss: 0.4334 - val_accuracy: 0.8333\n",
            "Epoch 10/50\n",
            "215/215 [==============================] - 1s 3ms/sample - loss: 0.4826 - accuracy: 0.8047 - val_loss: 0.4247 - val_accuracy: 0.8333\n",
            "Epoch 11/50\n",
            "215/215 [==============================] - 0s 2ms/sample - loss: 0.4936 - accuracy: 0.8047 - val_loss: 0.4112 - val_accuracy: 0.8333\n",
            "Epoch 12/50\n",
            "215/215 [==============================] - 0s 2ms/sample - loss: 0.4453 - accuracy: 0.8047 - val_loss: 0.3933 - val_accuracy: 0.8333\n",
            "Epoch 13/50\n",
            "215/215 [==============================] - 1s 2ms/sample - loss: 0.4256 - accuracy: 0.8093 - val_loss: 0.3759 - val_accuracy: 0.8333\n",
            "Epoch 14/50\n",
            "215/215 [==============================] - 1s 3ms/sample - loss: 0.4065 - accuracy: 0.8279 - val_loss: 0.3722 - val_accuracy: 0.8333\n",
            "Epoch 15/50\n",
            "215/215 [==============================] - 1s 3ms/sample - loss: 0.3824 - accuracy: 0.8372 - val_loss: 0.3711 - val_accuracy: 0.8750\n",
            "Epoch 16/50\n",
            "215/215 [==============================] - 0s 2ms/sample - loss: 0.3873 - accuracy: 0.8233 - val_loss: 0.3711 - val_accuracy: 0.8750\n",
            "Epoch 17/50\n",
            "215/215 [==============================] - 0s 2ms/sample - loss: 0.3733 - accuracy: 0.8326 - val_loss: 0.3652 - val_accuracy: 0.8750\n",
            "Epoch 18/50\n",
            "215/215 [==============================] - 0s 1ms/sample - loss: 0.3604 - accuracy: 0.8512 - val_loss: 0.3659 - val_accuracy: 0.8750\n",
            "Epoch 19/50\n",
            "215/215 [==============================] - 0s 893us/sample - loss: 0.3468 - accuracy: 0.8791 - val_loss: 0.3526 - val_accuracy: 0.8750\n",
            "Epoch 20/50\n",
            "215/215 [==============================] - 0s 930us/sample - loss: 0.3474 - accuracy: 0.8558 - val_loss: 0.3430 - val_accuracy: 0.8750\n",
            "Epoch 21/50\n",
            "215/215 [==============================] - 0s 967us/sample - loss: 0.3215 - accuracy: 0.8372 - val_loss: 0.3371 - val_accuracy: 0.8750\n",
            "Epoch 22/50\n",
            "215/215 [==============================] - 0s 707us/sample - loss: 0.3346 - accuracy: 0.8512 - val_loss: 0.3408 - val_accuracy: 0.8750\n",
            "Epoch 23/50\n",
            "215/215 [==============================] - 0s 707us/sample - loss: 0.3267 - accuracy: 0.8558 - val_loss: 0.3555 - val_accuracy: 0.8750\n",
            "Epoch 24/50\n",
            "215/215 [==============================] - 0s 1ms/sample - loss: 0.3276 - accuracy: 0.8744 - val_loss: 0.3413 - val_accuracy: 0.8750\n",
            "Epoch 25/50\n",
            "215/215 [==============================] - 0s 744us/sample - loss: 0.3244 - accuracy: 0.8698 - val_loss: 0.3347 - val_accuracy: 0.8750\n",
            "Epoch 26/50\n",
            "215/215 [==============================] - 0s 786us/sample - loss: 0.3159 - accuracy: 0.8651 - val_loss: 0.3299 - val_accuracy: 0.8750\n",
            "Epoch 27/50\n",
            "215/215 [==============================] - 0s 730us/sample - loss: 0.3113 - accuracy: 0.8698 - val_loss: 0.3387 - val_accuracy: 0.8750\n",
            "Epoch 28/50\n",
            "215/215 [==============================] - 0s 674us/sample - loss: 0.3027 - accuracy: 0.8651 - val_loss: 0.3200 - val_accuracy: 0.8750\n",
            "Epoch 29/50\n",
            "215/215 [==============================] - 0s 619us/sample - loss: 0.3017 - accuracy: 0.8744 - val_loss: 0.3277 - val_accuracy: 0.8750\n",
            "Epoch 30/50\n",
            "215/215 [==============================] - 0s 670us/sample - loss: 0.2940 - accuracy: 0.8837 - val_loss: 0.3286 - val_accuracy: 0.8750\n",
            "Epoch 31/50\n",
            "215/215 [==============================] - 0s 1ms/sample - loss: 0.2945 - accuracy: 0.8930 - val_loss: 0.3280 - val_accuracy: 0.8750\n",
            "Epoch 32/50\n",
            "215/215 [==============================] - 0s 800us/sample - loss: 0.3029 - accuracy: 0.8744 - val_loss: 0.3337 - val_accuracy: 0.8750\n",
            "Epoch 33/50\n",
            "215/215 [==============================] - 0s 707us/sample - loss: 0.2939 - accuracy: 0.8837 - val_loss: 0.3221 - val_accuracy: 0.8750\n",
            "Epoch 34/50\n",
            "215/215 [==============================] - 0s 738us/sample - loss: 0.2849 - accuracy: 0.8744 - val_loss: 0.3234 - val_accuracy: 0.8750\n",
            "Epoch 35/50\n",
            "215/215 [==============================] - 0s 595us/sample - loss: 0.2906 - accuracy: 0.8605 - val_loss: 0.3265 - val_accuracy: 0.8750\n",
            "Epoch 36/50\n",
            "215/215 [==============================] - 0s 595us/sample - loss: 0.2955 - accuracy: 0.8698 - val_loss: 0.3219 - val_accuracy: 0.8750\n",
            "Epoch 37/50\n",
            "215/215 [==============================] - 0s 633us/sample - loss: 0.2836 - accuracy: 0.8930 - val_loss: 0.3276 - val_accuracy: 0.8750\n",
            "Epoch 38/50\n",
            "215/215 [==============================] - 0s 744us/sample - loss: 0.2779 - accuracy: 0.8884 - val_loss: 0.3186 - val_accuracy: 0.8750\n",
            "Epoch 39/50\n",
            "215/215 [==============================] - 0s 595us/sample - loss: 0.2598 - accuracy: 0.8977 - val_loss: 0.3182 - val_accuracy: 0.8750\n",
            "Epoch 40/50\n",
            "215/215 [==============================] - 0s 633us/sample - loss: 0.2743 - accuracy: 0.8930 - val_loss: 0.3096 - val_accuracy: 0.8750\n",
            "Epoch 41/50\n",
            "215/215 [==============================] - 0s 781us/sample - loss: 0.2535 - accuracy: 0.8930 - val_loss: 0.3186 - val_accuracy: 0.8750\n",
            "Epoch 42/50\n",
            "215/215 [==============================] - 0s 633us/sample - loss: 0.2598 - accuracy: 0.8977 - val_loss: 0.3244 - val_accuracy: 0.8750\n",
            "Epoch 43/50\n",
            "215/215 [==============================] - 0s 595us/sample - loss: 0.2643 - accuracy: 0.8791 - val_loss: 0.3122 - val_accuracy: 0.9167\n",
            "Epoch 44/50\n",
            "215/215 [==============================] - 0s 558us/sample - loss: 0.2585 - accuracy: 0.9070 - val_loss: 0.3206 - val_accuracy: 0.8750\n",
            "Epoch 45/50\n",
            "215/215 [==============================] - 0s 595us/sample - loss: 0.2720 - accuracy: 0.8884 - val_loss: 0.3214 - val_accuracy: 0.8750\n",
            "Epoch 46/50\n",
            "215/215 [==============================] - 0s 781us/sample - loss: 0.2657 - accuracy: 0.8791 - val_loss: 0.3116 - val_accuracy: 0.9167\n",
            "Epoch 47/50\n",
            "215/215 [==============================] - 0s 595us/sample - loss: 0.2554 - accuracy: 0.8977 - val_loss: 0.3191 - val_accuracy: 0.9167\n",
            "Epoch 48/50\n",
            "215/215 [==============================] - 0s 595us/sample - loss: 0.2683 - accuracy: 0.8977 - val_loss: 0.3182 - val_accuracy: 0.9167\n",
            "Epoch 49/50\n",
            "215/215 [==============================] - 0s 633us/sample - loss: 0.2584 - accuracy: 0.8884 - val_loss: 0.3230 - val_accuracy: 0.9167\n",
            "Epoch 50/50\n",
            "215/215 [==============================] - 0s 744us/sample - loss: 0.2629 - accuracy: 0.9070 - val_loss: 0.3159 - val_accuracy: 0.9167\n"
          ],
          "name": "stdout"
        }
      ]
    },
    {
      "cell_type": "code",
      "metadata": {
        "id": "D42_o6dcQyMm",
        "outputId": "5fcde7d9-78bb-4f57-f0cb-32f9c4d00799"
      },
      "source": [
        "loss, acc = model.evaluate(X_test, Y_test, verbose = 0)\n",
        "print('loss:', loss, 'Accuracy', acc)"
      ],
      "execution_count": null,
      "outputs": [
        {
          "output_type": "stream",
          "text": [
            "loss: 0.5822801192601522 Accuracy 0.78333336\n"
          ],
          "name": "stdout"
        }
      ]
    },
    {
      "cell_type": "markdown",
      "metadata": {
        "id": "4PUyTZxfQyMn"
      },
      "source": [
        "### Generating Classification Report "
      ]
    },
    {
      "cell_type": "code",
      "metadata": {
        "id": "LzdkznYDQyMo",
        "outputId": "ef88c535-dbe8-48ba-e741-d1664f92517d"
      },
      "source": [
        "y_estimate = model.predict(X_test, verbose = 0)\n",
        "y_estimate = np.argmax(y_estimate, axis = 1)\n",
        "Y_true = np.argmax(Y_test, axis = 1)\n",
        "print(classification_report(Y_true, y_estimate))"
      ],
      "execution_count": null,
      "outputs": [
        {
          "output_type": "stream",
          "text": [
            "              precision    recall  f1-score   support\n",
            "\n",
            "           0       0.76      0.91      0.83        35\n",
            "           1       0.83      0.60      0.70        25\n",
            "\n",
            "    accuracy                           0.78        60\n",
            "   macro avg       0.80      0.76      0.76        60\n",
            "weighted avg       0.79      0.78      0.78        60\n",
            "\n"
          ],
          "name": "stdout"
        }
      ]
    },
    {
      "cell_type": "code",
      "metadata": {
        "id": "i1qj2VahQyMr"
      },
      "source": [
        "def plot_history(history, param):\n",
        "    \"\"\"\n",
        "    Shows how the model performs (in terms of accuracy and loss) over several epochs.\n",
        "    \"\"\"\n",
        "    if param == 'acc':\n",
        "        plt.plot(history.history['accuracy'])\n",
        "        plt.plot(history.history['val_accuracy'])\n",
        "        plt.title('model accuracy')\n",
        "        plt.ylabel('accuracy')\n",
        "        plt.xlabel('epoch')\n",
        "        plt.legend(['train', 'val'], loc='upper left')\n",
        "        plt.show()\n",
        "    elif param == 'loss':\n",
        "        plt.plot(history.history['loss'])\n",
        "        plt.plot(history.history['val_loss'])\n",
        "        plt.title('model loss')\n",
        "        plt.ylabel('loss')\n",
        "        plt.xlabel('epoch')\n",
        "        plt.legend(['train', 'val'], loc='upper right')\n",
        "        plt.show()"
      ],
      "execution_count": null,
      "outputs": []
    },
    {
      "cell_type": "code",
      "metadata": {
        "id": "xNpG1D9wQyMt",
        "outputId": "38442020-59c1-46f7-c187-2c8bf3458861"
      },
      "source": [
        "# hyperparameter tuning\n",
        "from keras.wrappers.scikit_learn import KerasClassifier\n",
        "from sklearn.model_selection import GridSearchCV\n",
        "from sklearn.metrics import mean_squared_error\n",
        "from sklearn.metrics import make_scorer\n",
        "def create_model():    \n",
        "    model = Sequential()\n",
        "    model.add(InputLayer(input_shape = (X_train.shape[1],)))\n",
        "    model.add(Dense(12, activation = 'relu'))\n",
        "    model.add(Dense(6, activation = 'relu'))\n",
        "    model.add(Dropout(0.1))\n",
        "    model.add(Dense(2, activation = 'softmax'))\n",
        "\n",
        "\n",
        "    model.compile(loss= 'categorical_crossentropy', metrics = ['accuracy'], optimizer = 'adam')\n",
        "    return model\n",
        "    \n",
        "    \n",
        "batch_size = [6, 8, 64]\n",
        "epochs = [10, 50, 100]\n",
        "model = KerasClassifier(build_fn=create_model, verbose = 0)\n",
        "param_grid = dict(batch_size=batch_size, epochs=epochs)\n",
        "grid = GridSearchCV(estimator = model, param_grid=param_grid,return_train_score = True)\n",
        "grid_result = grid.fit(X_train, Y_train, verbose = 0)\n",
        "print(grid_result)\n",
        "print(\"Best: %f using %s\" % (grid_result.best_score_, grid_result.best_params_))\n",
        "\n",
        "means = grid_result.cv_results_['mean_test_score']\n",
        "stds = grid_result.cv_results_['std_test_score']\n",
        "params = grid_result.cv_results_['params']\n",
        "for mean, stdev, param in zip(means, stds, params):\n",
        "  print(\"%f (%f) with: %r\" % (mean, stdev, param))\n"
      ],
      "execution_count": null,
      "outputs": [
        {
          "output_type": "stream",
          "text": [
            "Using TensorFlow backend.\n"
          ],
          "name": "stderr"
        },
        {
          "output_type": "stream",
          "text": [
            "GridSearchCV(estimator=<keras.wrappers.scikit_learn.KerasClassifier object at 0x000001C72E12CF08>,\n",
            "             param_grid={'batch_size': [6, 8, 64], 'epochs': [10, 50, 100]},\n",
            "             return_train_score=True)\n",
            "Best: 0.849291 using {'batch_size': 8, 'epochs': 100}\n",
            "0.803280 (0.086146) with: {'batch_size': 6, 'epochs': 10}\n",
            "0.820035 (0.038845) with: {'batch_size': 6, 'epochs': 50}\n",
            "0.815869 (0.024484) with: {'batch_size': 6, 'epochs': 100}\n",
            "0.794858 (0.069351) with: {'batch_size': 8, 'epochs': 10}\n",
            "0.819858 (0.047842) with: {'batch_size': 8, 'epochs': 50}\n",
            "0.849291 (0.021031) with: {'batch_size': 8, 'epochs': 100}\n",
            "0.649025 (0.132461) with: {'batch_size': 64, 'epochs': 10}\n",
            "0.770035 (0.036400) with: {'batch_size': 64, 'epochs': 50}\n",
            "0.807358 (0.047220) with: {'batch_size': 64, 'epochs': 100}\n"
          ],
          "name": "stdout"
        }
      ]
    },
    {
      "cell_type": "code",
      "metadata": {
        "id": "t1Wbc7mHQyMv",
        "outputId": "0bfd12d7-62b4-46ba-dbbb-808689eff00e"
      },
      "source": [
        "plot_history(history, 'acc')\n",
        "plot_history(history, 'loss')\n"
      ],
      "execution_count": null,
      "outputs": [
        {
          "output_type": "display_data",
          "data": {
            "image/png": "[encoded data removed]",
            "text/plain": [
              "<Figure size 432x288 with 1 Axes>"
            ]
          },
          "metadata": {
            "tags": [],
            "needs_background": "light"
          }
        },
        {
          "output_type": "display_data",
          "data": {
            "image/png": "[encoded data removed]",
            "text/plain": [
              "<Figure size 432x288 with 1 Axes>"
            ]
          },
          "metadata": {
            "tags": [],
            "needs_background": "light"
          }
        }
      ]
    },
    {
      "cell_type": "markdown",
      "metadata": {
        "id": "bNleKyPQQyM1"
      },
      "source": [
        "### Conclusion\n",
        "\n",
        "The model has an accuracy of 78% which is a good feat although the following reasons could be the cause of misclassifications:\n",
        "\n",
        "- The proportions of observation in death events. Inbalances in the dataset affects the classifiaction\n",
        "\n",
        "- Remove noise, inconsistent data and errors in training data - this should be done carefully with domain experts.\n",
        "\n",
        "- Try to use some other performance metric other than 'accuracy'. It fails to be a reliable metric when data in imbalanced. That is why we have other metrics such as Precision/Recall, F1-score etc.\n",
        "\n",
        "- Try resampling the data (undersample or oversample appropriately or stratified). Downsampling could be done with thresholding."
      ]
    }
  ]
}